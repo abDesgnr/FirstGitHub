{
  "nbformat": 4,
  "nbformat_minor": 0,
  "metadata": {
    "colab": {
      "provenance": [],
      "authorship_tag": "ABX9TyMNvAFsCAUqX2kzvArcWsx+",
      "include_colab_link": true
    },
    "kernelspec": {
      "name": "python3",
      "display_name": "Python 3"
    },
    "language_info": {
      "name": "python"
    }
  },
  "cells": [
    {
      "cell_type": "markdown",
      "metadata": {
        "id": "view-in-github",
        "colab_type": "text"
      },
      "source": [
        "<a href=\"https://colab.research.google.com/github/abDesgnr/FirstGitHub/blob/master/tf_tut_images.ipynb\" target=\"_parent\"><img src=\"https://colab.research.google.com/assets/colab-badge.svg\" alt=\"Open In Colab\"/></a>"
      ]
    },
    {
      "cell_type": "code",
      "execution_count": 19,
      "metadata": {
        "colab": {
          "base_uri": "https://localhost:8080/"
        },
        "id": "zlK0AMbtat0L",
        "outputId": "fc35f541-5c91-48f3-c2c2-41f24050c975"
      },
      "outputs": [
        {
          "output_type": "stream",
          "name": "stdout",
          "text": [
            "TensorFlow v2.12.0\n",
            "Number of images 3670\n",
            "Found 3670 files belonging to 5 classes.\n",
            "Using 2936 files for training.\n",
            "Found 3670 files belonging to 5 classes.\n",
            "Using 734 files for validation.\n",
            "['daisy', 'dandelion', 'roses', 'sunflowers', 'tulips']\n",
            "Epoch 1/3\n",
            "92/92 [==============================] - 174s 2s/step - loss: 1.3716 - accuracy: 0.4053 - val_loss: 1.1396 - val_accuracy: 0.5613\n",
            "Epoch 2/3\n",
            "92/92 [==============================] - 145s 2s/step - loss: 1.0838 - accuracy: 0.5708 - val_loss: 1.0521 - val_accuracy: 0.5749\n",
            "Epoch 3/3\n",
            "92/92 [==============================] - 145s 2s/step - loss: 0.9276 - accuracy: 0.6417 - val_loss: 0.9718 - val_accuracy: 0.5913\n"
          ]
        },
        {
          "output_type": "execute_result",
          "data": {
            "text/plain": [
              "<keras.callbacks.History at 0x7f5d3e32e350>"
            ]
          },
          "metadata": {},
          "execution_count": 19
        }
      ],
      "source": [
        "# May 4, 2023\n",
        "# Code example from TensorFlow tutorial:\n",
        "\n",
        "#This tutorial shows how to load and preprocess an image dataset in three ways:\n",
        "\n",
        "# 1) you will use high-level Keras preprocessing utilities (such as \n",
        "#    tf.keras.utils.image_dataset_from_directory) and layers (such \n",
        "#    as tf.keras.layers.Rescaling) to read a directory of images on disk.\n",
        "# 2) you will write your own input pipeline from scratch using tf.data.\n",
        "# 3) you will download a dataset from the large catalog available in \n",
        "#    TensorFlow Datasets.\n",
        "\n",
        "import numpy as np\n",
        "import os\n",
        "import PIL\n",
        "import PIL.Image\n",
        "import tensorflow as tf\n",
        "import tensorflow_datasets as tfds\n",
        "import pathlib\n",
        "\n",
        "print(\"TensorFlow v\" + str(tf.__version__))\n",
        "\n",
        "# Use Google's dataset of several thousand photos of flowers\n",
        "dataset_url = \"https://storage.googleapis.com/download.tensorflow.org/example_images/flower_photos.tgz\"\n",
        "archive = tf.keras.utils.get_file(origin=dataset_url, extract=True)\n",
        "data_dir = pathlib.Path(archive).with_suffix('')\n",
        "\n",
        "# After downloading (218MB), you should now have a copy of the \n",
        "# flower photos available. There are 3,670 total images:\n",
        "image_count = len(list(data_dir.glob('*/*.jpg')))\n",
        "print(\"Number of images \" + str(image_count))\n",
        "\n",
        "# Each directory contains images of that type of flower. Here are some roses:\n",
        "roses = list(data_dir.glob('roses/*'))\n",
        "#PIL.Image.open(str(roses[0]))\n",
        "\n",
        "# Load these images off disk using Keras utility\n",
        "# First, define some parameters for the loader:\n",
        "batch_size = 32\n",
        "img_height = 180\n",
        "img_width = 180\n",
        "\n",
        "# It's good practice to use a validation split when developing your model.\n",
        "# You will use 80% of the images for training and 20% for validation.\n",
        "# Training data\n",
        "train_ds = tf.keras.utils.image_dataset_from_directory(\n",
        "  data_dir,\n",
        "  validation_split=0.2,\n",
        "  subset=\"training\",\n",
        "  seed=123,\n",
        "  image_size=(img_height, img_width),\n",
        "  batch_size=batch_size)\n",
        "\n",
        "# Validation data\n",
        "val_ds = tf.keras.utils.image_dataset_from_directory(\n",
        "  data_dir,\n",
        "  validation_split=0.2,\n",
        "  subset=\"validation\",\n",
        "  seed=123,\n",
        "  image_size=(img_height, img_width),\n",
        "  batch_size=batch_size)\n",
        "\n",
        "# You can find the class names in the class_names attribute on these datasets.\n",
        "class_names = train_ds.class_names\n",
        "print(class_names)\n",
        "\n",
        "# Standardize the data\n",
        "# The RGB channel values are in the [0, 255] range. This is not ideal \n",
        "# for a neural network; in general you should seek to make your input \n",
        "# values small.\n",
        "# standardize values to be in the [0, 1] range\n",
        "normalization_layer = tf.keras.layers.Rescaling(1./255)\n",
        "\n",
        "# Configure the dataset for performance\n",
        "# Use buffered prefetching so you can yield data from disk without \n",
        "# having I/O become blocking. Following are 2 important methods:\n",
        "# 1) Dataset.cache keeps the images in memory after they're loaded off \n",
        "# disk during the first epoch\n",
        "# 2) Dataset.prefetch overlaps data preprocessing and model execution \n",
        "# while training.\n",
        "AUTOTUNE = tf.data.AUTOTUNE\n",
        "\n",
        "train_ds = train_ds.cache().prefetch(buffer_size=AUTOTUNE)\n",
        "val_ds = val_ds.cache().prefetch(buffer_size=AUTOTUNE)\n",
        "\n",
        "# Train Model\n",
        "# The Sequential model consists of three convolution blocks \n",
        "# (tf.keras.layers.Conv2D) with a max pooling layer \n",
        "# (tf.keras.layers.MaxPooling2D) in each of them. There's a \n",
        "# fully-connected layer (tf.keras.layers.Dense) with 128 units on \n",
        "# top of it that is activated by a ReLU activation function ('relu'). \n",
        "# This model has not been tuned in any way—the goal is to show you \n",
        "# the mechanics using the datasets you just created.\n",
        "# To learn more about image classification, visit the Image \n",
        "# classification tutorial.\n",
        "num_classes = 5\n",
        "\n",
        "model = tf.keras.Sequential([\n",
        "  tf.keras.layers.Rescaling(1./255),\n",
        "  tf.keras.layers.Conv2D(32, 3, activation='relu'),\n",
        "  tf.keras.layers.MaxPooling2D(),\n",
        "  tf.keras.layers.Conv2D(32, 3, activation='relu'),\n",
        "  tf.keras.layers.MaxPooling2D(),\n",
        "  tf.keras.layers.Conv2D(32, 3, activation='relu'),\n",
        "  tf.keras.layers.MaxPooling2D(),\n",
        "  tf.keras.layers.Flatten(),\n",
        "  tf.keras.layers.Dense(128, activation='relu'),\n",
        "  tf.keras.layers.Dense(num_classes)\n",
        "])\n",
        "\n",
        "# Choose the tf.keras.optimizers.Adam optimizer and \n",
        "# tf.keras.losses.SparseCategoricalCrossentropy loss function.\n",
        "model.compile(\n",
        "  optimizer='adam',\n",
        "  loss=tf.keras.losses.SparseCategoricalCrossentropy(from_logits=True),\n",
        "  metrics=['accuracy'])\n",
        "\n",
        "# Run fit() method\n",
        "model.fit(\n",
        "  train_ds,\n",
        "  validation_data=val_ds,\n",
        "  epochs=3\n",
        ")\n"
      ]
    }
  ]
}